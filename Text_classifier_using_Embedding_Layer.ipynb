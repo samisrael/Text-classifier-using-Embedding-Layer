{
 "cells": [
  {
   "cell_type": "code",
   "execution_count": 24,
   "metadata": {
    "id": "_gZihzubKfEu"
   },
   "outputs": [],
   "source": [
    "#Text classifier using Embedding Layer"
   ]
  },
  {
   "cell_type": "code",
   "execution_count": 25,
   "metadata": {
    "id": "xCf_afsnLvJN"
   },
   "outputs": [],
   "source": [
    "import tensorflow as tf\n",
    "import numpy as np\n",
    "import matplotlib.pyplot as plt"
   ]
  },
  {
   "cell_type": "code",
   "execution_count": 26,
   "metadata": {
    "id": "P7Qls1qAMDv9"
   },
   "outputs": [],
   "source": [
    "#To unzip and read the csv file inside the zip file\n",
    "\n",
    "import zipfile\n",
    "\n",
    "with zipfile.ZipFile('./BBC News Train.csv.zip', 'r') as zip_ref:\n",
    "    zip_ref.extractall('extracted_data')"
   ]
  },
  {
   "cell_type": "code",
   "execution_count": 27,
   "metadata": {
    "id": "2JW2X0jlMJr1"
   },
   "outputs": [
    {
     "name": "stdout",
     "output_type": "stream",
     "text": [
      "First line (header) looks like this:\n",
      "\n",
      "ArticleId,Text,Category\n",
      "\n",
      "The second line (first data point) looks like this:\n",
      "\n",
      "1833,worldcom ex-boss launches defence lawyers defending former worldcom chief bernie ebbers against a battery of fraud charges have called a company whistleblower as their first witness.  cynthia cooper  worldcom s ex-head of internal accounting  alerted directors to irregular accounting practices at the us telecoms giant in 2002. her warnings led to the collapse of the firm following the discovery of an $11bn (£5.7bn) accounting fraud. mr ebbers has pleaded not guilty to charges of fraud and conspiracy.  prosecution lawyers have argued that mr ebbers orchestrated a series of accounting tricks at worldcom  ordering employees to hide expenses and inflate revenues to meet wall street earnings estimates. but ms cooper  who now runs her own consulting business  told a jury in new york on wednesday that external auditors arthur andersen had approved worldcom s accounting in early 2001 and 2002. she said andersen had given a  green light  to the procedures and practices used by worldcom. mr ebber s lawyers have said he was unaware of the fraud  arguing that auditors did not alert him to any problems.  ms cooper also said that during shareholder meetings mr ebbers often passed over technical questions to the company s finance chief  giving only  brief  answers himself. the prosecution s star witness  former worldcom financial chief scott sullivan  has said that mr ebbers ordered accounting adjustments at the firm  telling him to  hit our books . however  ms cooper said mr sullivan had not mentioned  anything uncomfortable  about worldcom s accounting during a 2001 audit committee meeting. mr ebbers could face a jail sentence of 85 years if convicted of all the charges he is facing. worldcom emerged from bankruptcy protection in 2004  and is now known as mci. last week  mci agreed to a buyout by verizon communications in a deal valued at $6.75bn.,business\n",
      "\n"
     ]
    }
   ],
   "source": [
    "with open(\"extracted_data/BBC News Train.csv\", 'r') as csvfile:\n",
    "    print(f\"First line (header) looks like this:\\n\\n{csvfile.readline()}\")\n",
    "    print(f\"The second line (first data point) looks like this:\\n\\n{csvfile.readline()}\")"
   ]
  },
  {
   "cell_type": "markdown",
   "metadata": {
    "id": "YKTmkaWlMWQ1"
   },
   "source": [
    "## Defining useful global variables"
   ]
  },
  {
   "cell_type": "markdown",
   "metadata": {
    "id": "ZCe1h5LeMr7N"
   },
   "source": [
    "VOCAB_SIZE: The maximum number of words to keep, based on word frequency. Defaults to 1000.\n",
    "\n",
    "EMBEDDING_DIM: Dimension of the dense embedding, will be used in the embedding layer of the model. Defaults to 16.\n",
    "\n",
    "MAX_LENGTH: Maximum length of all sequences. Defaults to 120.\n",
    "\n",
    "TRAINING_SPLIT: Proportion of data used for training. Defaults to 0.8"
   ]
  },
  {
   "cell_type": "code",
   "execution_count": 28,
   "metadata": {
    "id": "RDyxF7KkMa4F"
   },
   "outputs": [],
   "source": [
    "# Define the global variables\n",
    "VOCAB_SIZE = 1000\n",
    "EMBEDDING_DIM = 16\n",
    "MAX_LENGTH = 120\n",
    "TRAINING_SPLIT = 0.8"
   ]
  },
  {
   "cell_type": "markdown",
   "metadata": {
    "id": "UwRf-s2ZOB5F"
   },
   "source": [
    "## Loading and pre-processing the data"
   ]
  },
  {
   "cell_type": "code",
   "execution_count": 29,
   "metadata": {
    "id": "ghRw-Iu1OG29"
   },
   "outputs": [
    {
     "name": "stdout",
     "output_type": "stream",
     "text": [
      "Shape of the data: (1490, 3)\n",
      "['1833'\n",
      " 'worldcom ex-boss launches defence lawyers defending former worldcom chief bernie ebbers against a battery of fraud charges have called a company whistleblower as their first witness.  cynthia cooper  worldcom s ex-head of internal accounting  alerted directors to irregular accounting practices at the us telecoms giant in 2002. her warnings led to the collapse of the firm following the discovery of an $11bn (£5.7bn) accounting fraud. mr ebbers has pleaded not guilty to charges of fraud and conspiracy.  prosecution lawyers have argued that mr ebbers orchestrated a series of accounting tricks at worldcom  ordering employees to hide expenses and inflate revenues to meet wall street earnings estimates. but ms cooper  who now runs her own consulting business  told a jury in new york on wednesday that external auditors arthur andersen had approved worldcom s accounting in early 2001 and 2002. she said andersen had given a  green light  to the procedures and practices used by worldcom. mr ebber s lawyers have said he was unaware of the fraud  arguing that auditors did not alert him to any problems.  ms cooper also said that during shareholder meetings mr ebbers often passed over technical questions to the company s finance chief  giving only  brief  answers himself. the prosecution s star witness  former worldcom financial chief scott sullivan  has said that mr ebbers ordered accounting adjustments at the firm  telling him to  hit our books . however  ms cooper said mr sullivan had not mentioned  anything uncomfortable  about worldcom s accounting during a 2001 audit committee meeting. mr ebbers could face a jail sentence of 85 years if convicted of all the charges he is facing. worldcom emerged from bankruptcy protection in 2004  and is now known as mci. last week  mci agreed to a buyout by verizon communications in a deal valued at $6.75bn.'\n",
      " 'business']\n",
      "['154'\n",
      " 'german business confidence slides german business confidence fell in february knocking hopes of a speedy recovery in europe s largest economy.  munich-based research institute ifo said that its confidence index fell to 95.5 in february from 97.5 in january  its first decline in three months. the study found that the outlook in both the manufacturing and retail sectors had worsened. observers had been hoping that a more confident business sector would signal that economic activity was picking up.   we re surprised that the ifo index has taken such a knock   said dz bank economist bernd weidensteiner.  the main reason is probably that the domestic economy is still weak  particularly in the retail trade.  economy and labour minister wolfgang clement called the dip in february s ifo confidence figure  a very mild decline . he said that despite the retreat  the index remained at a relatively high level and that he expected  a modest economic upswing  to continue.  germany s economy grew 1.6% last year after shrinking in 2003. however  the economy contracted by 0.2% during the last three months of 2004  mainly due to the reluctance of consumers to spend. latest indications are that growth is still proving elusive and ifo president hans-werner sinn said any improvement in german domestic demand was sluggish. exports had kept things going during the first half of 2004  but demand for exports was then hit as the value of the euro hit record levels making german products less competitive overseas. on top of that  the unemployment rate has been stuck at close to 10% and manufacturing firms  including daimlerchrysler  siemens and volkswagen  have been negotiating with unions over cost cutting measures. analysts said that the ifo figures and germany s continuing problems may delay an interest rate rise by the european central bank. eurozone interest rates are at 2%  but comments from senior officials have recently focused on the threat of inflation  prompting fears that interest rates may rise.'\n",
      " 'business']\n"
     ]
    }
   ],
   "source": [
    "data_dir = \"./extracted_data/BBC News Train.csv\"\n",
    "data = np.loadtxt(data_dir, delimiter=',', skiprows=1, dtype='str', comments=None)\n",
    "print(f\"Shape of the data: {data.shape}\")\n",
    "print(f\"{data[0]}\\n{data[1]}\")"
   ]
  },
  {
   "cell_type": "code",
   "execution_count": 30,
   "metadata": {
    "id": "y4mHSHyVOazd"
   },
   "outputs": [
    {
     "name": "stdout",
     "output_type": "stream",
     "text": [
      "There are 1490 sentence-label pairs in the dataset.\n",
      "\n",
      "First sentence has 301 words.\n",
      "\n",
      "The first 5 labels are ['business' 'business' 'business' 'tech' 'business']\n"
     ]
    }
   ],
   "source": [
    "# Test the function\n",
    "print(f\"There are {len(data)} sentence-label pairs in the dataset.\\n\")\n",
    "print(f\"First sentence has {len((data[0,1]).split())} words.\\n\")\n",
    "print(f\"The first 5 labels are {data[:5,2]}\")"
   ]
  },
  {
   "cell_type": "markdown",
   "metadata": {
    "id": "polished-eagle"
   },
   "source": [
    "## Training - Validation Datasets\n",
    "\n",
    "Now you will code the `train_val_datasets` function, which, given the `data` DataFrame, should return the training and validation datasets, consisting of `(text, label)` pairs. For this last part, you will be using the [tf.data.Dataset.from_tensor_slices](https://www.tensorflow.org/api_docs/python/tf/data/Dataset#from_tensor_slices) method."
   ]
  },
  {
   "cell_type": "code",
   "execution_count": 31,
   "metadata": {
    "id": "ablWQ69vOv7W"
   },
   "outputs": [],
   "source": [
    "# train_val_datasets\n",
    "def train_val_datasets(data):\n",
    "    '''\n",
    "    Splits data into traning and validations sets\n",
    "    \n",
    "    Args:\n",
    "        data (np.array): array with two columns, first one is the label, the second is the text\n",
    "    \n",
    "    Returns:\n",
    "        (tf.data.Dataset, tf.data.Dataset): tuple containing the train and validation datasets\n",
    "    '''\n",
    "    ### START CODE HERE ###\n",
    "\n",
    "    # Compute the number of sentences that will be used for training (should be an integer)\n",
    "    train_size = int(0.8 * len(data))\n",
    "\n",
    "    # Slice the dataset to get only the texts. Remember that texts are on the second column\n",
    "    texts = data[:,1]\n",
    "    # Slice the dataset to get only the labels. Remember that labels are on the first column\n",
    "    labels = data[:,2]\n",
    "    # Split the sentences and labels into train/validation splits. Write your own code below\n",
    "    train_texts = texts[:train_size]\n",
    "    validation_texts = texts[train_size:]\n",
    "    train_labels = labels[:train_size]\n",
    "    validation_labels = labels[train_size:]\n",
    "    \n",
    "    # Create the train and validation datasets from the splits\n",
    "    train_dataset = tf.data.Dataset.from_tensor_slices((train_texts, train_labels))\n",
    "    validation_dataset = tf.data.Dataset.from_tensor_slices((validation_texts, validation_labels))\n",
    "    \n",
    "\t### END CODE HERE ### \n",
    "    \n",
    "    return train_dataset, validation_dataset"
   ]
  },
  {
   "cell_type": "code",
   "execution_count": 32,
   "metadata": {
    "id": "deuClmbFObsc"
   },
   "outputs": [
    {
     "name": "stdout",
     "output_type": "stream",
     "text": [
      "Name: Sam Israel D       Register Number: 212222230128      \n",
      "There are 1192 sentence-label pairs for training.\n",
      "\n",
      "There are 298 sentence-label pairs for validation.\n",
      "\n"
     ]
    }
   ],
   "source": [
    "# Create the datasets\n",
    "train_dataset, validation_dataset = train_val_datasets(data)\n",
    "print('Name: Sam Israel D       Register Number: 212222230128      ')\n",
    "print(f\"There are {train_dataset.cardinality()} sentence-label pairs for training.\\n\")\n",
    "print(f\"There are {validation_dataset.cardinality()} sentence-label pairs for validation.\\n\")"
   ]
  },
  {
   "cell_type": "markdown",
   "metadata": {
    "id": "0NP8gNmaP65c"
   },
   "source": [
    "## Vectorization - Sequences and padding"
   ]
  },
  {
   "cell_type": "code",
   "execution_count": 33,
   "metadata": {
    "id": "H6iPrw5tP_PN"
   },
   "outputs": [],
   "source": [
    "def standardize_func(sentence):\n",
    "    \"\"\"\n",
    "    Removes a list of stopwords\n",
    "\n",
    "    Args:\n",
    "        sentence (tf.string): sentence to remove the stopwords from\n",
    "\n",
    "    Returns:\n",
    "        sentence (tf.string): lowercase sentence without the stopwords\n",
    "    \"\"\"\n",
    "    # List of stopwords\n",
    "    stopwords = [\"a\", \"about\", \"above\", \"after\", \"again\", \"against\", \"all\", \"am\", \"an\", \"and\", \"any\", \"are\", \"as\", \"at\", \"be\", \"because\", \"been\", \"before\", \"being\", \"below\", \"between\", \"both\", \"but\", \"by\", \"could\", \"did\", \"do\", \"does\", \"doing\", \"down\", \"during\", \"each\", \"few\", \"for\", \"from\", \"further\", \"had\", \"has\", \"have\", \"having\", \"he\", \"her\", \"here\",  \"hers\", \"herself\", \"him\", \"himself\", \"his\", \"how\",  \"i\", \"if\", \"in\", \"into\", \"is\", \"it\", \"its\", \"itself\", \"let's\", \"me\", \"more\", \"most\", \"my\", \"myself\", \"nor\", \"of\", \"on\", \"once\", \"only\", \"or\", \"other\", \"ought\", \"our\", \"ours\", \"ourselves\", \"out\", \"over\", \"own\", \"same\", \"she\",  \"should\", \"so\", \"some\", \"such\", \"than\", \"that\",  \"the\", \"their\", \"theirs\", \"them\", \"themselves\", \"then\", \"there\", \"these\", \"they\", \"this\", \"those\", \"through\", \"to\", \"too\", \"under\", \"until\", \"up\", \"very\", \"was\", \"we\",  \"were\", \"what\",  \"when\", \"where\", \"which\", \"while\", \"who\", \"whom\", \"why\", \"why\", \"with\", \"would\", \"you\",  \"your\", \"yours\", \"yourself\", \"yourselves\", \"'m\",  \"'d\", \"'ll\", \"'re\", \"'ve\", \"'s\", \"'d\"]\n",
    "\n",
    "    # Sentence converted to lowercase-only\n",
    "    sentence = tf.strings.lower(sentence)\n",
    "\n",
    "    # Remove stopwords\n",
    "    for word in stopwords:\n",
    "        if word[0] == \"'\":\n",
    "            sentence = tf.strings.regex_replace(sentence, rf\"{word}\\b\", \"\")\n",
    "        else:\n",
    "            sentence = tf.strings.regex_replace(sentence, rf\"\\b{word}\\b\", \"\")\n",
    "\n",
    "    # Remove punctuation\n",
    "    sentence = tf.strings.regex_replace(sentence, r'[!\"#$%&()\\*\\+,-\\./:;<=>?@\\[\\\\\\]^_`{|}~\\']', \"\")\n",
    "\n",
    "\n",
    "    return sentence"
   ]
  },
  {
   "cell_type": "markdown",
   "metadata": {
    "id": "Exs2-mJWQOP1"
   },
   "source": [
    "## 2. fit_vectorizer\n",
    "Next complete the fit_vectorizer function below. This function should return a TextVectorization layer that has already been fitted on the training sentences. The vocabulary learned by the vectorizer should have VOCAB_SIZE size, and truncate the output sequences to have MAX_LENGTH length.\n",
    "\n",
    "Remember to use the custom function standardize_func to standardize each sentence in the vectorizer. You can do this by passing the function to the standardize parameter of TextVectorization."
   ]
  },
  {
   "cell_type": "code",
   "execution_count": 34,
   "metadata": {
    "deletable": false,
    "id": "recreational-prince",
    "lines_to_next_cell": 2,
    "tags": [
     "graded"
    ]
   },
   "outputs": [],
   "source": [
    "# fit_vectorizer\n",
    "def fit_vectorizer(train_sentences, standardize_func):\n",
    "    '''\n",
    "    Defines and adapts the text vectorizer\n",
    "\n",
    "    Args:\n",
    "        train_sentences (tf.data.Dataset): sentences from the train dataset to fit the TextVectorization layer\n",
    "        standardize_func (FunctionType): function to remove stopwords and punctuation, and lowercase texts.\n",
    "    Returns:\n",
    "        TextVectorization: adapted instance of TextVectorization layer\n",
    "    '''\n",
    "    ### START CODE HERE ###\n",
    "\n",
    "    # If train_sentences is a NumPy array, convert it to a TensorFlow Dataset\n",
    "\n",
    "\n",
    "    # Initialize the TextVectorization layer\n",
    "    vectorizer = tf.keras.layers.TextVectorization( \n",
    "\t\tstandardize=standardize_func,\n",
    "\t\tmax_tokens=VOCAB_SIZE,\n",
    "\t\toutput_sequence_length=MAX_LENGTH\n",
    "\t) \n",
    "    \n",
    "    # Adapt the vectorizer to the training sentences\n",
    "    vectorizer.adapt(train_sentences)\n",
    "\n",
    "    ### END CODE HERE ###\n",
    "\n",
    "    return vectorizer"
   ]
  },
  {
   "cell_type": "code",
   "execution_count": 35,
   "metadata": {
    "id": "ND496KNuPrkV"
   },
   "outputs": [
    {
     "name": "stdout",
     "output_type": "stream",
     "text": [
      "Name: Sam Israel D       Register Number: 212222230128       \n",
      "Vocabulary contains 1000 words\n",
      "\n"
     ]
    },
    {
     "name": "stderr",
     "output_type": "stream",
     "text": [
      "2024-11-13 22:30:34.398012: I tensorflow/core/framework/local_rendezvous.cc:404] Local rendezvous is aborting with status: OUT_OF_RANGE: End of sequence\n"
     ]
    }
   ],
   "source": [
    "# Create the vectorizer\n",
    "text_only_dataset = train_dataset.map(lambda text, label: text)\n",
    "vectorizer = fit_vectorizer(text_only_dataset, standardize_func)\n",
    "vocab_size = vectorizer.vocabulary_size()\n",
    "print('Name: Sam Israel D       Register Number: 212222230128       ')\n",
    "print(f\"Vocabulary contains {vocab_size} words\\n\")"
   ]
  },
  {
   "cell_type": "markdown",
   "metadata": {
    "id": "H25lRAUWRnXl"
   },
   "source": []
  },
  {
   "cell_type": "markdown",
   "metadata": {
    "id": "familiar-reform"
   },
   "source": [
    "### 3. fit_label_encoder\n",
    "\n",
    "Remember your categories are also text labels, so you need to encode the labels as well. For this complete the `tokenize_labels` function below.\n",
    "\n",
    "- Use the function [`tf.keras.layers.StringLookup`](https://www.tensorflow.org/api_docs/python/tf/keras/layers/StringLookup) to encode the labels. Use the correct parameters so that you don't include any OOV tokens.\n",
    "- You should fit the tokenizer to all the labels to avoid the case of a particular label not being present in the validation set. Since you are dealing with labels there should never be an OOV label. For this, you can concatenate the two datasets using the [`concatenate`](https://www.tensorflow.org/api_docs/python/tf/data/Dataset#concatenate) method from `tf.data.Dataset` objects."
   ]
  },
  {
   "cell_type": "code",
   "execution_count": 36,
   "metadata": {
    "id": "BBTNcNKwRxQE"
   },
   "outputs": [],
   "source": [
    "# fit_label_encoder\n",
    "def fit_label_encoder(train_labels, validation_labels):\n",
    "    \"\"\"Creates an instance of a StringLookup, and trains it on all labels\n",
    "\n",
    "    Args:\n",
    "        train_labels (tf.data.Dataset): dataset of train labels\n",
    "        validation_labels (tf.data.Dataset): dataset of validation labels\n",
    "\n",
    "    Returns:\n",
    "        tf.keras.layers.StringLookup: adapted encoder for train and validation labels\n",
    "    \"\"\"\n",
    "    ### START CODE HERE ###\n",
    "    \n",
    "    # join the two label datasets\n",
    "    labels = train_labels.concatenate(validation_labels) #concatenate the two datasets.\n",
    "    \n",
    "    # Instantiate the StringLookup layer. Remember that you don't want any OOV tokens\n",
    "    label_encoder = tf.keras.layers.StringLookup(oov_token=None, mask_token=None, num_oov_indices=0)\n",
    "    \n",
    "    # Fit the TextVectorization layer on the train_labels\n",
    "    label_encoder.adapt(labels)\n",
    "   \n",
    "    ### END CODE HERE ###\n",
    "    \n",
    "    return label_encoder"
   ]
  },
  {
   "cell_type": "code",
   "execution_count": 37,
   "metadata": {
    "id": "NzAx1s0BSF3M"
   },
   "outputs": [
    {
     "name": "stdout",
     "output_type": "stream",
     "text": [
      "Name: Sam Israel D       Register Number: 212222230128       \n",
      "Unique labels: ['sport', 'business', 'politics', 'entertainment', 'tech']\n"
     ]
    }
   ],
   "source": [
    "# Create the label encoder\n",
    "train_labels_only = train_dataset.map(lambda text, label: label)\n",
    "validation_labels_only = validation_dataset.map(lambda text, label: label)\n",
    "\n",
    "label_encoder = fit_label_encoder(train_labels_only,validation_labels_only)\n",
    "print('Name: Sam Israel D       Register Number: 212222230128       ')\n",
    "print(f'Unique labels: {label_encoder.get_vocabulary()}')"
   ]
  },
  {
   "cell_type": "markdown",
   "metadata": {
    "id": "iL8Wb4uASMsF"
   },
   "source": []
  },
  {
   "cell_type": "markdown",
   "metadata": {
    "id": "sweet-sentence"
   },
   "source": [
    "### 4. preprocess_dataset\n",
    "\n",
    "Now that you have trained the vectorizer for the texts and the encoder for the labels, it's time for you to actually transform the dataset. For this complete the `preprocess_dataset` function below.\n",
    "Use this function to set the dataset batch size to 32\n",
    "\n",
    "- You can apply the preprocessing to each pair or text and label by using the [`.map`]method.\n",
    "- You can set the batchsize to any Dataset by using the [`.batch`] method."
   ]
  },
  {
   "cell_type": "code",
   "execution_count": 38,
   "metadata": {
    "id": "cZGLqYQGSf4M"
   },
   "outputs": [],
   "source": [
    "# GRADED FUNCTION: preprocess_dataset\n",
    "def preprocess_dataset(dataset, text_vectorizer, label_encoder):\n",
    "    \"\"\"Apply the preprocessing to a dataset\n",
    "\n",
    "    Args:\n",
    "        dataset (tf.data.Dataset): dataset to preprocess\n",
    "        text_vectorizer (tf.keras.layers.TextVectorization ): text vectorizer\n",
    "        label_encoder (tf.keras.layers.StringLookup): label encoder\n",
    "\n",
    "    Returns:\n",
    "        tf.data.Dataset: transformed dataset\n",
    "    \"\"\"\n",
    "    \n",
    "    ### START CODE HERE ###\n",
    "\n",
    "    # Convert the Dataset sentences to sequences, and encode the text labels\n",
    "    dataset = dataset.map(lambda text, label: (text_vectorizer(text), label_encoder(label)))\n",
    "    dataset = dataset.batch(32) # Set a batchsize of 32\n",
    "    \n",
    "\t### END CODE HERE ###\n",
    "    \n",
    "    return dataset"
   ]
  },
  {
   "cell_type": "code",
   "execution_count": 39,
   "metadata": {
    "id": "ACLhQOe_SoM8"
   },
   "outputs": [],
   "source": [
    "# Preprocess your dataset\n",
    "train_proc_dataset = preprocess_dataset(train_dataset, vectorizer, label_encoder)\n",
    "validation_proc_dataset = preprocess_dataset(validation_dataset, vectorizer, label_encoder)"
   ]
  },
  {
   "cell_type": "code",
   "execution_count": 40,
   "metadata": {
    "id": "gt1skObIStCL"
   },
   "outputs": [
    {
     "name": "stdout",
     "output_type": "stream",
     "text": [
      "Name: Sam Israel D       Register Number: 212222230128     \n",
      "Shape of the train batch: (32, 120)\n",
      "Shape of the validation batch: (32, 120)\n"
     ]
    }
   ],
   "source": [
    "train_batch = next(train_proc_dataset.as_numpy_iterator())\n",
    "validation_batch = next(validation_proc_dataset.as_numpy_iterator())\n",
    "print('Name: Sam Israel D       Register Number: 212222230128     ')\n",
    "print(f\"Shape of the train batch: {train_batch[0].shape}\")\n",
    "print(f\"Shape of the validation batch: {validation_batch[0].shape}\")"
   ]
  },
  {
   "cell_type": "markdown",
   "metadata": {
    "id": "sMYUI6M_S9fE"
   },
   "source": [
    "## 5: create_model\n",
    "Define the model that will classify each text as being part of a certain category.\n",
    "\n",
    "The last layer should be a Dense layer with 5 units (since there are 5 categories) with a softmax activation.\n",
    "You should also compile your model using an appropriate loss function and optimizer.\n",
    "You can use any architecture you want but keep in mind that this problem doesn't need many layers to be solved successfully. You don't need any layers beside Embedding, GlobalAveragePooling1D and Dense layers but feel free to try out different architectures."
   ]
  },
  {
   "cell_type": "code",
   "execution_count": 41,
   "metadata": {
    "id": "XNJUFyvuSvWj"
   },
   "outputs": [],
   "source": [
    "def create_model():\n",
    "    \"\"\"\n",
    "    Creates a text classifier model.\n",
    "    Returns:\n",
    "      tf.keras Model: the text classifier model.\n",
    "    \"\"\"\n",
    "    \n",
    "    ### START CODE HERE ###\n",
    "\n",
    "    # Define the model architecture\n",
    "    model = tf.keras.Sequential([ \n",
    "        tf.keras.Input(shape=(MAX_LENGTH,)),  \n",
    "        tf.keras.layers.Embedding(VOCAB_SIZE, EMBEDDING_DIM),  \n",
    "        tf.keras.layers.GlobalAveragePooling1D(),  \n",
    "        tf.keras.layers.Dense(24, activation='relu'), \n",
    "        tf.keras.layers.Dense(5, activation='softmax') \n",
    "    ])\n",
    "    \n",
    "    # Compile the model with the categorical cross-entropy loss, Adam optimizer, and accuracy as the metric\n",
    "    model.compile(\n",
    "        loss='sparse_categorical_crossentropy',  # Loss function for multi-class classification\n",
    "        optimizer='adam',  # Optimizer\n",
    "        metrics=['accuracy']  # We want to track accuracy during training\n",
    "    ) \n",
    "\n",
    "    ### END CODE HERE ###\n",
    "\n",
    "    return model"
   ]
  },
  {
   "cell_type": "code",
   "execution_count": 42,
   "metadata": {
    "id": "7fqibq2oTzCE"
   },
   "outputs": [],
   "source": [
    "# Get the untrained model\n",
    "model = create_model()"
   ]
  },
  {
   "cell_type": "code",
   "execution_count": 43,
   "metadata": {
    "id": "Ey5NzSWKT1pc"
   },
   "outputs": [
    {
     "name": "stdout",
     "output_type": "stream",
     "text": [
      "predictions have shape: (32, 5)\n"
     ]
    }
   ],
   "source": [
    "example_batch = train_proc_dataset.take(1)\n",
    "\n",
    "try:\n",
    "\tmodel.evaluate(example_batch, verbose=False)\n",
    "except:\n",
    "\tprint(\"Your model is not compatible with the dataset you defined earlier. Check that the loss function and last layer are compatible with one another.\")\n",
    "else:\n",
    "\tpredictions = model.predict(example_batch, verbose=False)\n",
    "\tprint(f\"predictions have shape: {predictions.shape}\")"
   ]
  },
  {
   "cell_type": "code",
   "execution_count": 44,
   "metadata": {
    "id": "2xrjD-XgUDDG"
   },
   "outputs": [
    {
     "name": "stdout",
     "output_type": "stream",
     "text": [
      "Epoch 1/30\n",
      "\u001b[1m38/38\u001b[0m \u001b[32m━━━━━━━━━━━━━━━━━━━━\u001b[0m\u001b[37m\u001b[0m \u001b[1m4s\u001b[0m 83ms/step - accuracy: 0.2490 - loss: 1.6028 - val_accuracy: 0.4161 - val_loss: 1.5878\n",
      "Epoch 2/30\n",
      "\u001b[1m38/38\u001b[0m \u001b[32m━━━━━━━━━━━━━━━━━━━━\u001b[0m\u001b[37m\u001b[0m \u001b[1m3s\u001b[0m 74ms/step - accuracy: 0.3978 - loss: 1.5655 - val_accuracy: 0.4430 - val_loss: 1.5437\n",
      "Epoch 3/30\n",
      "\u001b[1m38/38\u001b[0m \u001b[32m━━━━━━━━━━━━━━━━━━━━\u001b[0m\u001b[37m\u001b[0m \u001b[1m3s\u001b[0m 79ms/step - accuracy: 0.4769 - loss: 1.5074 - val_accuracy: 0.6074 - val_loss: 1.4546\n",
      "Epoch 4/30\n",
      "\u001b[1m38/38\u001b[0m \u001b[32m━━━━━━━━━━━━━━━━━━━━\u001b[0m\u001b[37m\u001b[0m \u001b[1m3s\u001b[0m 81ms/step - accuracy: 0.6584 - loss: 1.4008 - val_accuracy: 0.7550 - val_loss: 1.3088\n",
      "Epoch 5/30\n",
      "\u001b[1m38/38\u001b[0m \u001b[32m━━━━━━━━━━━━━━━━━━━━\u001b[0m\u001b[37m\u001b[0m \u001b[1m3s\u001b[0m 72ms/step - accuracy: 0.7893 - loss: 1.2346 - val_accuracy: 0.8154 - val_loss: 1.1212\n",
      "Epoch 6/30\n",
      "\u001b[1m38/38\u001b[0m \u001b[32m━━━━━━━━━━━━━━━━━━━━\u001b[0m\u001b[37m\u001b[0m \u001b[1m3s\u001b[0m 80ms/step - accuracy: 0.8281 - loss: 1.0315 - val_accuracy: 0.8557 - val_loss: 0.9346\n",
      "Epoch 7/30\n",
      "\u001b[1m38/38\u001b[0m \u001b[32m━━━━━━━━━━━━━━━━━━━━\u001b[0m\u001b[37m\u001b[0m \u001b[1m3s\u001b[0m 82ms/step - accuracy: 0.8539 - loss: 0.8358 - val_accuracy: 0.8591 - val_loss: 0.7752\n",
      "Epoch 8/30\n",
      "\u001b[1m38/38\u001b[0m \u001b[32m━━━━━━━━━━━━━━━━━━━━\u001b[0m\u001b[37m\u001b[0m \u001b[1m3s\u001b[0m 82ms/step - accuracy: 0.8963 - loss: 0.6742 - val_accuracy: 0.8993 - val_loss: 0.6468\n",
      "Epoch 9/30\n",
      "\u001b[1m38/38\u001b[0m \u001b[32m━━━━━━━━━━━━━━━━━━━━\u001b[0m\u001b[37m\u001b[0m \u001b[1m3s\u001b[0m 81ms/step - accuracy: 0.9134 - loss: 0.5493 - val_accuracy: 0.9094 - val_loss: 0.5458\n",
      "Epoch 10/30\n",
      "\u001b[1m38/38\u001b[0m \u001b[32m━━━━━━━━━━━━━━━━━━━━\u001b[0m\u001b[37m\u001b[0m \u001b[1m3s\u001b[0m 81ms/step - accuracy: 0.9313 - loss: 0.4538 - val_accuracy: 0.9228 - val_loss: 0.4660\n",
      "Epoch 11/30\n",
      "\u001b[1m38/38\u001b[0m \u001b[32m━━━━━━━━━━━━━━━━━━━━\u001b[0m\u001b[37m\u001b[0m \u001b[1m3s\u001b[0m 81ms/step - accuracy: 0.9421 - loss: 0.3798 - val_accuracy: 0.9262 - val_loss: 0.4039\n",
      "Epoch 12/30\n",
      "\u001b[1m38/38\u001b[0m \u001b[32m━━━━━━━━━━━━━━━━━━━━\u001b[0m\u001b[37m\u001b[0m \u001b[1m3s\u001b[0m 79ms/step - accuracy: 0.9494 - loss: 0.3221 - val_accuracy: 0.9295 - val_loss: 0.3554\n",
      "Epoch 13/30\n",
      "\u001b[1m38/38\u001b[0m \u001b[32m━━━━━━━━━━━━━━━━━━━━\u001b[0m\u001b[37m\u001b[0m \u001b[1m3s\u001b[0m 83ms/step - accuracy: 0.9554 - loss: 0.2767 - val_accuracy: 0.9396 - val_loss: 0.3176\n",
      "Epoch 14/30\n",
      "\u001b[1m38/38\u001b[0m \u001b[32m━━━━━━━━━━━━━━━━━━━━\u001b[0m\u001b[37m\u001b[0m \u001b[1m3s\u001b[0m 82ms/step - accuracy: 0.9610 - loss: 0.2407 - val_accuracy: 0.9530 - val_loss: 0.2880\n",
      "Epoch 15/30\n",
      "\u001b[1m38/38\u001b[0m \u001b[32m━━━━━━━━━━━━━━━━━━━━\u001b[0m\u001b[37m\u001b[0m \u001b[1m3s\u001b[0m 82ms/step - accuracy: 0.9667 - loss: 0.2117 - val_accuracy: 0.9564 - val_loss: 0.2648\n",
      "Epoch 16/30\n",
      "\u001b[1m38/38\u001b[0m \u001b[32m━━━━━━━━━━━━━━━━━━━━\u001b[0m\u001b[37m\u001b[0m \u001b[1m3s\u001b[0m 80ms/step - accuracy: 0.9757 - loss: 0.1879 - val_accuracy: 0.9564 - val_loss: 0.2463\n",
      "Epoch 17/30\n",
      "\u001b[1m38/38\u001b[0m \u001b[32m━━━━━━━━━━━━━━━━━━━━\u001b[0m\u001b[37m\u001b[0m \u001b[1m3s\u001b[0m 82ms/step - accuracy: 0.9795 - loss: 0.1681 - val_accuracy: 0.9564 - val_loss: 0.2315\n",
      "Epoch 18/30\n",
      "\u001b[1m38/38\u001b[0m \u001b[32m━━━━━━━━━━━━━━━━━━━━\u001b[0m\u001b[37m\u001b[0m \u001b[1m3s\u001b[0m 80ms/step - accuracy: 0.9821 - loss: 0.1514 - val_accuracy: 0.9597 - val_loss: 0.2196\n",
      "Epoch 19/30\n",
      "\u001b[1m38/38\u001b[0m \u001b[32m━━━━━━━━━━━━━━━━━━━━\u001b[0m\u001b[37m\u001b[0m \u001b[1m3s\u001b[0m 78ms/step - accuracy: 0.9863 - loss: 0.1371 - val_accuracy: 0.9597 - val_loss: 0.2098\n",
      "Epoch 20/30\n",
      "\u001b[1m38/38\u001b[0m \u001b[32m━━━━━━━━━━━━━━━━━━━━\u001b[0m\u001b[37m\u001b[0m \u001b[1m3s\u001b[0m 81ms/step - accuracy: 0.9898 - loss: 0.1246 - val_accuracy: 0.9597 - val_loss: 0.2017\n",
      "Epoch 21/30\n",
      "\u001b[1m38/38\u001b[0m \u001b[32m━━━━━━━━━━━━━━━━━━━━\u001b[0m\u001b[37m\u001b[0m \u001b[1m3s\u001b[0m 80ms/step - accuracy: 0.9898 - loss: 0.1137 - val_accuracy: 0.9597 - val_loss: 0.1951\n",
      "Epoch 22/30\n",
      "\u001b[1m38/38\u001b[0m \u001b[32m━━━━━━━━━━━━━━━━━━━━\u001b[0m\u001b[37m\u001b[0m \u001b[1m3s\u001b[0m 80ms/step - accuracy: 0.9898 - loss: 0.1040 - val_accuracy: 0.9597 - val_loss: 0.1894\n",
      "Epoch 23/30\n",
      "\u001b[1m38/38\u001b[0m \u001b[32m━━━━━━━━━━━━━━━━━━━━\u001b[0m\u001b[37m\u001b[0m \u001b[1m3s\u001b[0m 84ms/step - accuracy: 0.9902 - loss: 0.0953 - val_accuracy: 0.9597 - val_loss: 0.1847\n",
      "Epoch 24/30\n",
      "\u001b[1m38/38\u001b[0m \u001b[32m━━━━━━━━━━━━━━━━━━━━\u001b[0m\u001b[37m\u001b[0m \u001b[1m3s\u001b[0m 81ms/step - accuracy: 0.9928 - loss: 0.0875 - val_accuracy: 0.9597 - val_loss: 0.1807\n",
      "Epoch 25/30\n",
      "\u001b[1m38/38\u001b[0m \u001b[32m━━━━━━━━━━━━━━━━━━━━\u001b[0m\u001b[37m\u001b[0m \u001b[1m4s\u001b[0m 98ms/step - accuracy: 0.9941 - loss: 0.0805 - val_accuracy: 0.9597 - val_loss: 0.1772\n",
      "Epoch 26/30\n",
      "\u001b[1m38/38\u001b[0m \u001b[32m━━━━━━━━━━━━━━━━━━━━\u001b[0m\u001b[37m\u001b[0m \u001b[1m3s\u001b[0m 86ms/step - accuracy: 0.9948 - loss: 0.0741 - val_accuracy: 0.9597 - val_loss: 0.1745\n",
      "Epoch 27/30\n",
      "\u001b[1m38/38\u001b[0m \u001b[32m━━━━━━━━━━━━━━━━━━━━\u001b[0m\u001b[37m\u001b[0m \u001b[1m3s\u001b[0m 81ms/step - accuracy: 0.9964 - loss: 0.0684 - val_accuracy: 0.9597 - val_loss: 0.1721\n",
      "Epoch 28/30\n",
      "\u001b[1m38/38\u001b[0m \u001b[32m━━━━━━━━━━━━━━━━━━━━\u001b[0m\u001b[37m\u001b[0m \u001b[1m3s\u001b[0m 80ms/step - accuracy: 0.9964 - loss: 0.0632 - val_accuracy: 0.9597 - val_loss: 0.1702\n",
      "Epoch 29/30\n",
      "\u001b[1m38/38\u001b[0m \u001b[32m━━━━━━━━━━━━━━━━━━━━\u001b[0m\u001b[37m\u001b[0m \u001b[1m3s\u001b[0m 79ms/step - accuracy: 0.9964 - loss: 0.0584 - val_accuracy: 0.9564 - val_loss: 0.1688\n",
      "Epoch 30/30\n",
      "\u001b[1m38/38\u001b[0m \u001b[32m━━━━━━━━━━━━━━━━━━━━\u001b[0m\u001b[37m\u001b[0m \u001b[1m3s\u001b[0m 80ms/step - accuracy: 0.9972 - loss: 0.0541 - val_accuracy: 0.9597 - val_loss: 0.1677\n"
     ]
    }
   ],
   "source": [
    "history = model.fit(train_proc_dataset, epochs=30, validation_data=validation_proc_dataset)"
   ]
  },
  {
   "cell_type": "code",
   "execution_count": 45,
   "metadata": {
    "id": "7NKZZ19xUKtk"
   },
   "outputs": [
    {
     "name": "stdout",
     "output_type": "stream",
     "text": [
      "Name: Sam Israel D       Register Number: 212222230128       \n"
     ]
    },
    {
     "data": {
      "image/png": "[encoded data removed]",
      "text/plain": [
       "<Figure size 640x480 with 1 Axes>"
      ]
     },
     "metadata": {},
     "output_type": "display_data"
    },
    {
     "data": {
      "image/png": "[encoded data removed]",
      "text/plain": [
       "<Figure size 640x480 with 1 Axes>"
      ]
     },
     "metadata": {},
     "output_type": "display_data"
    }
   ],
   "source": [
    "def plot_graphs(history, metric):\n",
    "    plt.plot(history.history[metric])\n",
    "    plt.plot(history.history[f'val_{metric}'])\n",
    "    plt.xlabel(\"Epochs\")\n",
    "    plt.ylabel(metric)\n",
    "    plt.legend([metric, f'val_{metric}'])\n",
    "    plt.show()\n",
    "print('Name: Sam Israel D       Register Number: 212222230128       ')\n",
    "plot_graphs(history, \"accuracy\")\n",
    "plot_graphs(history, \"loss\")"
   ]
  }
 ],
 "metadata": {
  "colab": {
   "provenance": []
  },
  "kernelspec": {
   "display_name": "Python 3",
   "name": "python3"
  },
  "language_info": {
   "codemirror_mode": {
    "name": "ipython",
    "version": 3
   },
   "file_extension": ".py",
   "mimetype": "text/x-python",
   "name": "python",
   "nbconvert_exporter": "python",
   "pygments_lexer": "ipython3",
   "version": "3.10.12"
  }
 },
 "nbformat": 4,
 "nbformat_minor": 0
}
